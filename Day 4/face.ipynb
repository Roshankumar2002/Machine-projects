{
 "cells": [
  {
   "cell_type": "code",
   "execution_count": 4,
   "id": "b1de3448",
   "metadata": {},
   "outputs": [
    {
     "ename": "ModuleNotFoundError",
     "evalue": "No module named 'cv2'",
     "output_type": "error",
     "traceback": [
      "\u001b[1;31m---------------------------------------------------------------------------\u001b[0m",
      "\u001b[1;31mModuleNotFoundError\u001b[0m                       Traceback (most recent call last)",
      "Cell \u001b[1;32mIn[4], line 1\u001b[0m\n\u001b[1;32m----> 1\u001b[0m \u001b[38;5;28;01mimport\u001b[39;00m \u001b[38;5;21;01mcv2\u001b[39;00m\n\u001b[0;32m      2\u001b[0m \u001b[38;5;28;01mimport\u001b[39;00m \u001b[38;5;21;01mzipfile\u001b[39;00m\n\u001b[0;32m      3\u001b[0m \u001b[38;5;28;01mimport\u001b[39;00m \u001b[38;5;21;01mnumpy\u001b[39;00m \u001b[38;5;28;01mas\u001b[39;00m \u001b[38;5;21;01mnp\u001b[39;00m\n",
      "\u001b[1;31mModuleNotFoundError\u001b[0m: No module named 'cv2'"
     ]
    }
   ],
   "source": [
    "import cv2\n",
    "import zipfile\n",
    "import numpy as np\n",
    " \n",
    "faces = {}\n",
    "with zipfile.ZipFile(\"archive.zip\") as facezip:\n",
    "    for filename in facezip.namelist():\n",
    "        if not filename.endswith(\".pgm\"):\n",
    "            continue # not a face picture\n",
    "        with facezip.open(filename) as image:\n",
    "            # If we extracted files from zip, we can use cv2.imread(filename) instead\n",
    "            faces[filename] = cv2.imdecode(np.frombuffer(image.read(), np.uint8), cv2.IMREAD_GRAYSCALE)\n"
   ]
  },
  {
   "cell_type": "code",
   "execution_count": 8,
   "id": "4f2c0368-3568-4e3c-a863-f8f697439f16",
   "metadata": {},
   "outputs": [
    {
     "name": "stderr",
     "output_type": "stream",
     "text": [
      "ERROR: Could not find a version that satisfies the requirement cv2 (from versions: none)\n",
      "ERROR: No matching distribution found for cv2\n",
      "ERROR: Could not find a version that satisfies the requirement zipfile (from versions: none)\n",
      "ERROR: No matching distribution found for zipfile\n"
     ]
    }
   ],
   "source": [
    "!pip install cv2\n",
    "!pip install zipfile\n"
   ]
  },
  {
   "cell_type": "code",
   "execution_count": 6,
   "id": "8853335f",
   "metadata": {},
   "outputs": [
    {
     "ename": "NameError",
     "evalue": "name 'faces' is not defined",
     "output_type": "error",
     "traceback": [
      "\u001b[1;31m---------------------------------------------------------------------------\u001b[0m",
      "\u001b[1;31mNameError\u001b[0m                                 Traceback (most recent call last)",
      "Cell \u001b[1;32mIn[6], line 5\u001b[0m\n\u001b[0;32m      2\u001b[0m \u001b[38;5;28;01mimport\u001b[39;00m \u001b[38;5;21;01mmatplotlib\u001b[39;00m\u001b[38;5;21;01m.\u001b[39;00m\u001b[38;5;21;01mpyplot\u001b[39;00m \u001b[38;5;28;01mas\u001b[39;00m \u001b[38;5;21;01mplt\u001b[39;00m\n\u001b[0;32m      4\u001b[0m fig, axes \u001b[38;5;241m=\u001b[39m plt\u001b[38;5;241m.\u001b[39msubplots(\u001b[38;5;241m4\u001b[39m,\u001b[38;5;241m4\u001b[39m,sharex\u001b[38;5;241m=\u001b[39m\u001b[38;5;28;01mTrue\u001b[39;00m,sharey\u001b[38;5;241m=\u001b[39m\u001b[38;5;28;01mTrue\u001b[39;00m,figsize\u001b[38;5;241m=\u001b[39m(\u001b[38;5;241m8\u001b[39m,\u001b[38;5;241m10\u001b[39m))\n\u001b[1;32m----> 5\u001b[0m faceimages \u001b[38;5;241m=\u001b[39m \u001b[38;5;28mlist\u001b[39m(faces\u001b[38;5;241m.\u001b[39mvalues())[\u001b[38;5;241m-\u001b[39m\u001b[38;5;241m16\u001b[39m:] \u001b[38;5;66;03m# take last 16 images\u001b[39;00m\n\u001b[0;32m      6\u001b[0m \u001b[38;5;28;01mfor\u001b[39;00m i \u001b[38;5;129;01min\u001b[39;00m \u001b[38;5;28mrange\u001b[39m(\u001b[38;5;241m16\u001b[39m):\n\u001b[0;32m      7\u001b[0m     axes[i\u001b[38;5;241m%\u001b[39m\u001b[38;5;241m4\u001b[39m][i\u001b[38;5;241m/\u001b[39m\u001b[38;5;241m/\u001b[39m\u001b[38;5;241m4\u001b[39m]\u001b[38;5;241m.\u001b[39mimshow(faceimages[i], cmap\u001b[38;5;241m=\u001b[39m\u001b[38;5;124m\"\u001b[39m\u001b[38;5;124mgray\u001b[39m\u001b[38;5;124m\"\u001b[39m)\n",
      "\u001b[1;31mNameError\u001b[0m: name 'faces' is not defined"
     ]
    },
    {
     "data": {
      "image/png": "[encoded data removed]",
      "text/plain": [
       "<Figure size 800x1000 with 16 Axes>"
      ]
     },
     "metadata": {},
     "output_type": "display_data"
    }
   ],
   "source": [
    "...\n",
    "import matplotlib.pyplot as plt\n",
    " \n",
    "fig, axes = plt.subplots(4,4,sharex=True,sharey=True,figsize=(8,10))\n",
    "faceimages = list(faces.values())[-16:] # take last 16 images\n",
    "for i in range(16):\n",
    "    axes[i%4][i//4].imshow(faceimages[i], cmap=\"gray\")\n",
    "plt.show()"
   ]
  },
  {
   "cell_type": "code",
   "execution_count": null,
   "id": "a5a5cb03-2ad3-4e0a-966d-f5137a0327fe",
   "metadata": {},
   "outputs": [],
   "source": []
  },
  {
   "cell_type": "code",
   "execution_count": null,
   "id": "850fe0f2",
   "metadata": {},
   "outputs": [],
   "source": [
    "faceshape = list(faces.values())[0].shape\n",
    "print(\"Face image shape:\", faceshape)\n",
    "print(list(faces.keys())[:5])"
   ]
  },
  {
   "cell_type": "code",
   "execution_count": null,
   "id": "2e0478ad",
   "metadata": {},
   "outputs": [],
   "source": [
    "classes = set(filename.split(\"/\")[0] for filename in faces.keys())\n",
    "print(\"Number of classes:\", len(classes))\n",
    "print(\"Number of pictures:\", len(faces))"
   ]
  },
  {
   "cell_type": "code",
   "execution_count": null,
   "id": "d580ce9a",
   "metadata": {},
   "outputs": [],
   "source": [
    "facematrix = []\n",
    "facelabel = []\n",
    "for key,val in faces.items():\n",
    "    if key.startswith(\"s40/\"):\n",
    "        continue # this is our test set\n",
    "    if key == \"s39/10.pgm\":\n",
    "        continue # this is our test set\n",
    "    facematrix.append(val.flatten())\n",
    "    facelabel.append(key.split(\"/\")[0])\n",
    " \n",
    "# Create facematrix as (n_samples,n_pixels) matrix\n",
    "facematrix = np.array(facematrix)"
   ]
  },
  {
   "cell_type": "code",
   "execution_count": null,
   "id": "28effe0e",
   "metadata": {},
   "outputs": [],
   "source": [
    "\n",
    "# Apply PCA to extract eigenfaces\n",
    "from sklearn.decomposition import PCA\n",
    " \n",
    "pca = PCA().fit(facematrix)"
   ]
  },
  {
   "cell_type": "code",
   "execution_count": null,
   "id": "2742a8e5",
   "metadata": {},
   "outputs": [],
   "source": [
    "\n",
    "#print(pca.explained_variance_ratio_)"
   ]
  },
  {
   "cell_type": "code",
   "execution_count": null,
   "id": "53e12317",
   "metadata": {},
   "outputs": [],
   "source": [
    "n_components = 50\n",
    "eigenfaces = pca.components_[:n_components]\n",
    " \n",
    "# Show the first 16 eigenfaces\n",
    "fig, axes = plt.subplots(4,4,sharex=True,sharey=True,figsize=(8,10))\n",
    "for i in range(16):\n",
    "    axes[i%4][i//4].imshow(eigenfaces[i].reshape(faceshape), cmap=\"gray\")\n",
    "plt.show()"
   ]
  },
  {
   "cell_type": "code",
   "execution_count": null,
   "id": "cacc7f5c",
   "metadata": {},
   "outputs": [],
   "source": [
    "# Generate weights as a KxN matrix where K is the number of eigenfaces and N the number of samples\n",
    "weights = eigenfaces @ (facematrix - pca.mean_).T"
   ]
  },
  {
   "cell_type": "code",
   "execution_count": 7,
   "id": "2ba66a5a",
   "metadata": {},
   "outputs": [
    {
     "ename": "NameError",
     "evalue": "name 'faces' is not defined",
     "output_type": "error",
     "traceback": [
      "\u001b[1;31m---------------------------------------------------------------------------\u001b[0m",
      "\u001b[1;31mNameError\u001b[0m                                 Traceback (most recent call last)",
      "Cell \u001b[1;32mIn[7], line 3\u001b[0m\n\u001b[0;32m      1\u001b[0m \u001b[38;5;241m.\u001b[39m\u001b[38;5;241m.\u001b[39m\u001b[38;5;241m.\u001b[39m\n\u001b[0;32m      2\u001b[0m \u001b[38;5;66;03m# Test on out-of-sample image of existing class\u001b[39;00m\n\u001b[1;32m----> 3\u001b[0m query \u001b[38;5;241m=\u001b[39m faces[\u001b[38;5;124m\"\u001b[39m\u001b[38;5;124ms39/10.pgm\u001b[39m\u001b[38;5;124m\"\u001b[39m]\u001b[38;5;241m.\u001b[39mreshape(\u001b[38;5;241m1\u001b[39m,\u001b[38;5;241m-\u001b[39m\u001b[38;5;241m1\u001b[39m)\n\u001b[0;32m      4\u001b[0m query_weight \u001b[38;5;241m=\u001b[39m eigenfaces \u001b[38;5;241m@\u001b[39m (query \u001b[38;5;241m-\u001b[39m pca\u001b[38;5;241m.\u001b[39mmean_)\u001b[38;5;241m.\u001b[39mT\n\u001b[0;32m      5\u001b[0m euclidean_distance \u001b[38;5;241m=\u001b[39m np\u001b[38;5;241m.\u001b[39mlinalg\u001b[38;5;241m.\u001b[39mnorm(weights \u001b[38;5;241m-\u001b[39m query_weight, axis\u001b[38;5;241m=\u001b[39m\u001b[38;5;241m0\u001b[39m)\n",
      "\u001b[1;31mNameError\u001b[0m: name 'faces' is not defined"
     ]
    }
   ],
   "source": [
    "...\n",
    "# Test on out-of-sample image of existing class\n",
    "query = faces[\"s39/10.pgm\"].reshape(1,-1)\n",
    "query_weight = eigenfaces @ (query - pca.mean_).T\n",
    "euclidean_distance = np.linalg.norm(weights - query_weight, axis=0)\n",
    "best_match = np.argmin(euclidean_distance)\n",
    "print(\"Best match %s with Euclidean distance %f\" % (facelabel[best_match], euclidean_distance[best_match]))\n",
    "# Visualize\n",
    "fig, axes = plt.subplots(1,2,sharex=True,sharey=True,figsize=(8,6))\n",
    "axes[0].imshow(query.reshape(faceshape), cmap=\"gray\")\n",
    "axes[0].set_title(\"Query\")\n",
    "axes[1].imshow(facematrix[best_match].reshape(faceshape), cmap=\"gray\")\n",
    "axes[1].set_title(\"Best match\")\n",
    "plt.show()"
   ]
  },
  {
   "cell_type": "code",
   "execution_count": null,
   "id": "89ae91f0",
   "metadata": {},
   "outputs": [],
   "source": []
  },
  {
   "cell_type": "code",
   "execution_count": null,
   "id": "9de8c3ca-6fe0-4317-8384-798a19dfd8f3",
   "metadata": {},
   "outputs": [],
   "source": []
  },
  {
   "cell_type": "code",
   "execution_count": null,
   "id": "d37663c5-aeaa-45f3-9fc9-ffee3f776be5",
   "metadata": {},
   "outputs": [],
   "source": []
  }
 ],
 "metadata": {
  "kernelspec": {
   "display_name": "Python 3 (ipykernel)",
   "language": "python",
   "name": "python3"
  },
  "language_info": {
   "codemirror_mode": {
    "name": "ipython",
    "version": 3
   },
   "file_extension": ".py",
   "mimetype": "text/x-python",
   "name": "python",
   "nbconvert_exporter": "python",
   "pygments_lexer": "ipython3",
   "version": "3.11.9"
  }
 },
 "nbformat": 4,
 "nbformat_minor": 5
}

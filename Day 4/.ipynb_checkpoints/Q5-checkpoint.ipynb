{
 "cells": [
  {
   "cell_type": "code",
   "execution_count": 1,
   "metadata": {},
   "outputs": [],
   "source": [
    "# Training of XOR function using Backpropagation\n",
    "import numpy as np \n",
    "def sigmoid (x):\n",
    "    return 1/(1 + np.exp(-x))"
   ]
  },
  {
   "cell_type": "code",
   "execution_count": 2,
   "metadata": {},
   "outputs": [],
   "source": [
    "def sigmoid_derivative(x):\n",
    "    return x * (1 - x)"
   ]
  },
  {
   "cell_type": "code",
   "execution_count": 3,
   "metadata": {},
   "outputs": [
    {
     "data": {
      "text/plain": [
       "((4, 2), (4, 1))"
      ]
     },
     "execution_count": 3,
     "metadata": {},
     "output_type": "execute_result"
    }
   ],
   "source": [
    "#Input datasets\n",
    "x = np.array([[0,0],[0,1],[1,0],[1,1]])\n",
    "t = np.array([[0],[1],[1],[0]])\n",
    "x.shape,t.shape"
   ]
  },
  {
   "cell_type": "code",
   "execution_count": 4,
   "metadata": {},
   "outputs": [],
   "source": [
    "epochs = 100000\n",
    "lr = 0.01"
   ]
  },
  {
   "cell_type": "code",
   "execution_count": 5,
   "metadata": {},
   "outputs": [],
   "source": [
    "ILNeurons, HLNeurons, OLNeurons = 2,2,1"
   ]
  },
  {
   "cell_type": "code",
   "execution_count": 6,
   "metadata": {},
   "outputs": [],
   "source": [
    "#Random weights and bias initialization\n",
    "wh = np.random.uniform(size=(ILNeurons,HLNeurons))\n",
    "#print(wh)\n",
    "bh =np.random.uniform(size=(1,HLNeurons))\n",
    "wo = np.random.uniform(size=(HLNeurons,OLNeurons))\n",
    "#print(wo)\n",
    "bo = np.random.uniform(size=(1,OLNeurons))"
   ]
  },
  {
   "cell_type": "code",
   "execution_count": 7,
   "metadata": {},
   "outputs": [],
   "source": [
    "#Training algorithm\n",
    "for i in range(epochs):\n",
    "    #Forward Propagation\n",
    "    vh= np.dot(x,wh)\n",
    "    vh = vh+bh\n",
    "    yh = sigmoid(vh)\n",
    "\n",
    "    vo = np.dot(yh,wo)\n",
    "    vo = vo+bo\n",
    "    yo = sigmoid(vo)"
   ]
  },
  {
   "cell_type": "code",
   "execution_count": 8,
   "metadata": {},
   "outputs": [
    {
     "name": "stdout",
     "output_type": "stream",
     "text": [
      "Final hidden weights: [5.7126409  3.57671758] [5.72078222 3.57829097]\n",
      "Final hidden bias: [-2.35126174 -5.47156123]\n",
      "Final output weights: [7.23072728] [-7.84441923]\n",
      "Final output bias: [-3.24319557]\n",
      "\n",
      "Output from neural network after 10,000 epochs: [0.] [1.] [1.] [0.]\n"
     ]
    }
   ],
   "source": [
    "#Training algorithm\n",
    "for i in range(epochs):\n",
    "    #Forward Propagation\n",
    "    vh= np.dot(x,wh)\n",
    "    vh = vh+bh\n",
    "    yh = sigmoid(vh)\n",
    "\n",
    "    vo = np.dot(yh,wo)\n",
    "    vo = vo+bo\n",
    "    yo = sigmoid(vo)\n",
    "\n",
    "    #Backward propagation\n",
    "    error = t - yo\n",
    "    deltao = error * sigmoid_derivative(yo)\n",
    "    hidden_error = deltao.dot(wo.T)\n",
    "    deltah = hidden_error * sigmoid_derivative(yh)\n",
    "\n",
    "    #Updating Weights and Biases\n",
    "    wo += yh.T.dot(deltao) *lr\n",
    "    bo += np.sum(deltao,axis=0,keepdims=True) *lr\n",
    "    wh += x.T.dot(deltah)*lr\n",
    "    bh += np.sum(deltah,axis=0,keepdims=True) *lr\n",
    "\n",
    "print(\"Final hidden weights: \",end='')\n",
    "print(*wh)\n",
    "print(\"Final hidden bias: \",end='')\n",
    "print(*bh)\n",
    "print(\"Final output weights: \",end='')\n",
    "print(*wo)\n",
    "print(\"Final output bias: \",end='')\n",
    "print(*bo)\n",
    "\n",
    "for f in range(len(yo)):\n",
    "    if yo[f]<0.5:\n",
    "        yo[f]=0\n",
    "    else:\n",
    "        yo[f]=1\n",
    "\n",
    "print(\"\\nOutput from neural network after 10,000 epochs: \",end='')\n",
    "print(*yo)"
   ]
  },
  {
   "cell_type": "code",
   "execution_count": null,
   "metadata": {},
   "outputs": [],
   "source": []
  },
  {
   "cell_type": "code",
   "execution_count": null,
   "metadata": {},
   "outputs": [],
   "source": []
  }
 ],
 "metadata": {
  "kernelspec": {
   "display_name": "Python 3 (ipykernel)",
   "language": "python",
   "name": "python3"
  },
  "language_info": {
   "codemirror_mode": {
    "name": "ipython",
    "version": 3
   },
   "file_extension": ".py",
   "mimetype": "text/x-python",
   "name": "python",
   "nbconvert_exporter": "python",
   "pygments_lexer": "ipython3",
   "version": "3.11.5"
  }
 },
 "nbformat": 4,
 "nbformat_minor": 2
}

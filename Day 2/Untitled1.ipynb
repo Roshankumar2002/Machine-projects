{
 "cells": [
  {
   "cell_type": "code",
   "execution_count": 1,
   "id": "7c30bb5e-3a75-43a2-999f-be8de03e86b7",
   "metadata": {},
   "outputs": [],
   "source": [
    "import numpy as np"
   ]
  },
  {
   "cell_type": "code",
   "execution_count": 7,
   "id": "5898aec7-3fa7-48cc-a8e0-e491c2d2dbb1",
   "metadata": {},
   "outputs": [],
   "source": [
    "m1 = np.array([0,0,0])\n",
    "m2 = np.array([0.5,0.5,0.5])\n",
    "S = np.array([[0.8,0.01,0.01],[0.01,0.2,0.01],[0.01,0.01,0.2]])\n",
    "x = np.array([0.1,0.5,0.1])"
   ]
  },
  {
   "cell_type": "code",
   "execution_count": 8,
   "id": "06c39bd6-8b94-49c0-9f10-e53d601c8153",
   "metadata": {},
   "outputs": [],
   "source": [
    "def euclidean_distance(x,m):\n",
    "    return np.sqrt(np.sum((x-m)**2))"
   ]
  },
  {
   "cell_type": "code",
   "execution_count": 9,
   "id": "e9372375-4af6-44b0-a9fc-978ff437ade4",
   "metadata": {},
   "outputs": [],
   "source": [
    "def mahalanobis_distance(x,m,S):\n",
    "    S_inv = np.linalg.inv(S)\n",
    "    return np.sqrt(np.dot(np.dot((x-m).transpose(),S_inv),(x-m)))"
   ]
  },
  {
   "cell_type": "code",
   "execution_count": 10,
   "id": "71ce9401-6c79-4154-97d0-32ad8d763fb3",
   "metadata": {},
   "outputs": [],
   "source": [
    "euclidean_dist_m1 = euclidean_distance(x,m1)\n",
    "euclidean_dist_m2 = euclidean_distance(x,m2)"
   ]
  },
  {
   "cell_type": "code",
   "execution_count": 12,
   "id": "1ab85bad-4d99-4ad7-9ca2-31c1a0234c80",
   "metadata": {},
   "outputs": [],
   "source": [
    "mahalanobis_dis_m1 = mahalanobis_distance(x,m1,S)\n",
    "mahalanobis_dis_m2 = mahalanobis_distance(x,m2,S)"
   ]
  },
  {
   "cell_type": "code",
   "execution_count": null,
   "id": "02bd52e5-df06-4d72-a5ed-eb8930e49c1c",
   "metadata": {},
   "outputs": [],
   "source": [
    "print(f\"Euclidea distance to m1 : {euclidean_dist_m1"
   ]
  },
  {
   "cell_type": "markdown",
   "id": "fed02bb5-dce8-4b6f-a583-008b5d441a59",
   "metadata": {},
   "source": []
  }
 ],
 "metadata": {
  "kernelspec": {
   "display_name": "Python 3 (ipykernel)",
   "language": "python",
   "name": "python3"
  },
  "language_info": {
   "codemirror_mode": {
    "name": "ipython",
    "version": 3
   },
   "file_extension": ".py",
   "mimetype": "text/x-python",
   "name": "python",
   "nbconvert_exporter": "python",
   "pygments_lexer": "ipython3",
   "version": "3.11.9"
  }
 },
 "nbformat": 4,
 "nbformat_minor": 5
}
